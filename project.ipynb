{
 "cells": [
  {
   "cell_type": "code",
   "execution_count": 23,
   "id": "b79ba035",
   "metadata": {},
   "outputs": [
    {
     "name": "stdout",
     "output_type": "stream",
     "text": [
      "./code_output.xlsx\n",
      "./project.py\n",
      "./test.csv\n",
      "./train.csv\n",
      "./Untitled.ipynb\n",
      "./.ipynb_checkpoints\\Untitled-checkpoint.ipynb\n",
      "./__MACOSX\\._code_output.xlsx\n",
      "./__MACOSX\\._test.csv\n",
      "./__MACOSX\\._train.csv\n"
     ]
    }
   ],
   "source": [
    "#This code is python script with several libraries data analysis & machine learning tasks .\n",
    "\n",
    "import seaborn as sns\n",
    "import matplotlib.pyplot as plt \n",
    "from sklearn.preprocessing import LabelEncoder\n",
    "from sklearn import datasets, linear_model\n",
    "from sklearn.metrics import mean_squared_error, r2_score\n",
    "from sklearn.model_selection import train_test_split\n",
    "from sklearn.metrics import accuracy_score\n",
    "from sklearn.tree import DecisionTreeClassifier\n",
    "from sklearn.linear_model import LogisticRegression\n",
    "from sklearn.ensemble import RandomForestClassifier\n",
    "labelencoder = LabelEncoder()\n",
    "# %matplotlib inline\n",
    "from sklearn.datasets import load_boston\n",
    "import numpy as np # linear algebra\n",
    "import pandas as pd # data processing, CSV file I/O (e.g. pd.read_csv)\n",
    "\n",
    "import os\n",
    "for dirname, _, filenames in os.walk('./'):\n",
    "    for filename in filenames:\n",
    "        print(os.path.join(dirname, filename))\n",
    "\n",
    "train_data = pd.read_csv(\"./train.csv\")\n",
    "test_data = pd.read_csv(\"./test.csv\")\n"
   ]
  },
  {
   "cell_type": "code",
   "execution_count": 24,
   "id": "1718af6e",
   "metadata": {
    "scrolled": true
   },
   "outputs": [
    {
     "data": {
      "image/png": "[encoded data removed]",
      "text/plain": [
       "<Figure size 432x288 with 2 Axes>"
      ]
     },
     "metadata": {
      "needs_background": "light"
     },
     "output_type": "display_data"
    }
   ],
   "source": [
    "\n",
    "colmns = train_data.columns[:30]\n",
    "colours = ['#0000FF', '#FF6347'] #red for filled and blue for empty\n",
    "sns.heatmap(train_data[colmns].isnull(), cmap = sns.color_palette(colours))\n",
    "\n",
    "train_data.isnull().sum(axis=0).reset_index()\n",
    "\n",
    "train_data.drop('Cabin', axis = 1, inplace = True)\n",
    "test_data.drop('Cabin', axis = 1, inplace = True)\n",
    "\n",
    "train_data['Age'] = train_data['Age'].fillna(train_data['Age'].median())\n",
    "test_data['Age'] = test_data['Age'].fillna(test_data['Age'].median())\n",
    "\n",
    "from scipy import stats\n",
    "\n",
    "train_data['Embarked'] = train_data['Embarked'].fillna(\"Q\")\n",
    "test_data['Embarked'] = test_data['Embarked'].fillna(\"Q\")\n",
    "\n",
    "train_data.Sex.replace(['Male', 'Female'], [0, 1], inplace = True)\n",
    "test_data.Sex.replace(['Male', 'Female'], [0, 1], inplace = True)\n",
    "\n",
    "train_data.drop('Name', axis = 1, inplace = True)\n",
    "train_data.drop('Ticket', axis = 1, inplace = True)\n",
    "train_data.drop('Fare', axis = 1, inplace = True)\n",
    "test_data.drop('Name', axis = 1, inplace = True)\n",
    "test_data.drop('Ticket', axis = 1, inplace = True)\n",
    "test_data.drop('Fare', axis = 1, inplace = True)\n",
    "\n",
    "y = pd.DataFrame(train_data['Survived'])\n",
    "x = pd.DataFrame(train_data)\n",
    "\n",
    "x.drop('Survived', axis = 1, inplace = True)\n",
    "\n",
    "x.Embarked.replace(['S', 'C', 'Q'], [1, 0, 2], inplace = True)\n",
    "x.drop('Sex', axis = 1, inplace = True)\n"
   ]
  },
  {
   "cell_type": "code",
   "execution_count": 25,
   "id": "a45fabd1",
   "metadata": {
    "scrolled": true
   },
   "outputs": [
    {
     "name": "stdout",
     "output_type": "stream",
     "text": [
      "596\n",
      "295\n",
      "596\n",
      "295\n",
      "     PassengerId  Pclass   Age  SibSp  Parch  Embarked\n",
      "707          708       1  42.0      0      0         1\n",
      "37            38       3  21.0      0      0         1\n",
      "615          616       2  24.0      1      2         1\n",
      "169          170       3  28.0      0      0         1\n",
      "68            69       3  17.0      4      2         1\n",
      "..           ...     ...   ...    ...    ...       ...\n",
      "880          881       2  25.0      0      1         1\n",
      "58            59       2   5.0      1      2         1\n",
      "363          364       3  35.0      0      0         1\n",
      "16            17       3   2.0      4      1         2\n",
      "310          311       1  24.0      0      0         0\n",
      "\n",
      "[295 rows x 6 columns]\n",
      "     PassengerId  Pclass   Age  SibSp  Parch  Embarked\n",
      "0            892       3  34.5      0      0         2\n",
      "1            893       3  47.0      1      0         1\n",
      "2            894       2  62.0      0      0         2\n",
      "3            895       3  27.0      0      0         1\n",
      "4            896       3  22.0      1      1         1\n",
      "..           ...     ...   ...    ...    ...       ...\n",
      "413         1305       3  27.0      0      0         1\n",
      "414         1306       1  39.0      0      0         0\n",
      "415         1307       3  38.5      0      0         1\n",
      "416         1308       3  27.0      0      0         1\n",
      "417         1309       3  27.0      1      1         0\n",
      "\n",
      "[418 rows x 6 columns]\n",
      "[0 0 0 0 0 0 0 0 0 0 0 1 1 0 0 0 0 0 0 0 0 0 1 1 1 0 1 0 1 0 0 0 0 0 1 0 0\n",
      " 0 0 0 0 1 0 0 0 0 1 0 0 0 1 0 0 1 0 0 0 0 0 1 0 0 0 0 1 0 0 1 1 1 0 0 0 1\n",
      " 1 1 0 0 0 0 0 0 0 0 0 0 0 0 0 1 0 0 1 0 1 0 0 0 0 0 0 0 0 0 0 0 0 0 0 1 0\n",
      " 0 1 0 0 0 0 0 1 0 1 0 1 0 0 0 0 0 0 0 0 0 1 0 0 0 0 0 0 1 0 1 1 0 1 0 1 0\n",
      " 1 0 1 0 0 0 0 0 1 0 1 0 0 0 0 0 0 0 0 0 1 0 0 0 0 0 0 1 0 0 1 1 0 1 1 0 1\n",
      " 0 1 0 0 0 0 1 0 0 1 0 1 0 0 0 0 1 0 1 0 1 0 0 1 0 0 0 1 0 0 1 0 0 0 0 0 0\n",
      " 0 0 0 0 0 0 0 0 1 1 0 0 0 0 0 0 1 0 0 0 1 0 0 0 0 0 0 0 1 0 1 0 0 0 0 0 1\n",
      " 0 0 0 1 0 0 0 1 0 0 0 0 0 1 0 0 0 0 0 0 0 0 0 0 0 0 0 0 1 0 0 1 0 0 0 0 0\n",
      " 1 0 1 0 0 0 0 0 0 0 1 1 0 0 0 0 0 0 0 0 0 0 0 0 0 0 0 1 1 0 1 0 0 0 0 1 0\n",
      " 0 0 1 0 0 0 0 1 0 1 0 0 0 0 0 0 0 1 0 1 0 1 0 0 0 0 0 0 0 0 0 1 1 0 0 1 0\n",
      " 0 1 0 0 0 0 0 0 0 0 0 0 0 0 0 1 0 0 0 0 1 1 0 0 0 1 0 0 0 0 1 0 1 1 0 0 0\n",
      " 0 0 0 0 1 0 0 1 0 0 0]\n",
      "418\n",
      "     PassengerId\n",
      "0            892\n",
      "1            893\n",
      "2            894\n",
      "3            895\n",
      "4            896\n",
      "..           ...\n",
      "413         1305\n",
      "414         1306\n",
      "415         1307\n",
      "416         1308\n",
      "417         1309\n",
      "\n",
      "[418 rows x 1 columns]\n"
     ]
    },
    {
     "name": "stderr",
     "output_type": "stream",
     "text": [
      "C:\\Users\\praga\\anaconda3\\lib\\site-packages\\sklearn\\utils\\validation.py:1111: DataConversionWarning: A column-vector y was passed when a 1d array was expected. Please change the shape of y to (n_samples, ), for example using ravel().\n",
      "  y = column_or_1d(y, warn=True)\n"
     ]
    }
   ],
   "source": [
    "\n",
    "x_train, x_val, y_train, y_val = train_test_split(x, y, test_size = 0.33, random_state = 2)\n",
    "\n",
    "logReg = LogisticRegression(max_iter = 100000)\n",
    "\n",
    "logReg.fit(x_train, y_train)\n",
    "\n",
    "y_predicted = logReg.predict(x_val)\n",
    "\n",
    "accuracy_score(y_predicted, y_val)\n",
    "print(len(x_train))\n",
    "print(len(x_val))\n",
    "print(len(y_train))\n",
    "print(len(y_val))\n",
    "test_data.drop('Sex', axis = 1, inplace = True)\n",
    "test_data.Embarked.replace(['S', 'C', 'Q'], [1, 0, 2], inplace = True)\n",
    "\n",
    "print(x_val)\n",
    "\n",
    "print(test_data)\n",
    "\n",
    "y_predicted = logReg.predict(test_data)\n",
    "\n",
    "y_prediction = pd.DataFrame(test_data['PassengerId'])\n",
    "print(y_predicted)\n",
    "print(len(y_predicted))\n",
    "print(y_prediction)\n",
    "\n",
    "y_prediction['Survived'] = y_predicted\n",
    "\n",
    "y_prediction.to_csv('code_output.xlsx', index = False)\n",
    "\n"
   ]
  }
 ],
 "metadata": {
  "kernelspec": {
   "display_name": "Python 3 (ipykernel)",
   "language": "python",
   "name": "python3"
  },
  "language_info": {
   "codemirror_mode": {
    "name": "ipython",
    "version": 3
   },
   "file_extension": ".py",
   "mimetype": "text/x-python",
   "name": "python",
   "nbconvert_exporter": "python",
   "pygments_lexer": "ipython3",
   "version": "3.9.12"
  }
 },
 "nbformat": 4,
 "nbformat_minor": 5
}
